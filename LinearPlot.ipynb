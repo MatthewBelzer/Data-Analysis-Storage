{
 "cells": [
  {
   "cell_type": "code",
   "execution_count": 1,
   "metadata": {},
   "outputs": [],
   "source": [
    "import numpy as np\n",
    "import matplotlib.pyplot as plt\n",
    "from scipy.optimize import leastsq\n",
    "import scipy\n",
    "import math"
   ]
  },
  {
   "cell_type": "code",
   "execution_count": 2,
   "metadata": {},
   "outputs": [],
   "source": [
    "#Function\n",
    "def Fitfunction(x, m, b):\n",
    "    return m*x+b\n",
    "\n",
    "def Residual(x, m, b):\n",
    "    return m*x+b\n",
    "\n",
    "#Fonts\n",
    "font = {'size'   : 16}\n",
    "plt.rc('font', **font)"
   ]
  },
  {
   "cell_type": "code",
   "execution_count": 3,
   "metadata": {},
   "outputs": [],
   "source": [
    "#Data\n",
    "x_array = \n",
    "y_array =\n",
    "xerr = \n",
    "yerr = \n",
    "\n",
    "sigma = []\n",
    "for x, y in zip(xerr, yerr):\n",
    "    value = math.sqrt(x**2 + y**2)\n",
    "    sigma = np.append(sigma, value)   "
   ]
  },
  {
   "cell_type": "code",
   "execution_count": 4,
   "metadata": {},
   "outputs": [
    {
     "name": "stdout",
     "output_type": "stream",
     "text": [
      "[0.24031014 0.39567488]\n",
      "[ 1.07719505 -0.19446081]\n"
     ]
    }
   ],
   "source": [
    "#Fitting\n",
    "popt, pcov = scipy.optimize.curve_fit(Fitfunction, x_array, y_array, sigma = sigma,\n",
    "                                      absolute_sigma = True\n",
    "                                        #,bounds = ( (0,3.1,0), (20,3.3,.2)) #(lower), (upper)\n",
    "                                        )\n",
    "std_dev = np.sqrt(np.diag(pcov))\n",
    "print(std_dev)\n",
    "print(popt)\n",
    "\n"
   ]
  },
  {
   "cell_type": "code",
   "execution_count": 5,
   "metadata": {},
   "outputs": [
    {
     "data": {
      "image/png": "[encoded data removed]",
      "text/plain": [
       "<Figure size 720x360 with 1 Axes>"
      ]
     },
     "metadata": {
      "needs_background": "light"
     },
     "output_type": "display_data"
    }
   ],
   "source": [
    "#Graphing\n",
    "YLABEL = \"\"\n",
    "XLABEL = \"\"\n",
    "TITLE = \"\"\n",
    "\n",
    "fig = plt.figure(figsize=(10,5))\n",
    "plt.scatter(x_array, y_array, c = 'b', s = 1)\n",
    "plt.errorbar(x_array, y_array, yerr=yerr, xerr=xerr, fmt='o', ecolor='r', elinewidth=None, capsize=3, \n",
    "                               barsabove=True, lolims=False, uplims=False, xlolims=False, xuplims=False, \n",
    "                               errorevery=1, capthick=None, data=None)\n",
    "\n",
    "smooth_x = np.linspace(np.min(x_array), np.max(x_array), 1000)\n",
    "fit = Fitfunction(smooth_x, *popt) #popt is the number of curves\n",
    "plt.plot(smooth_x, fit)\n",
    "plt.ylabel(YLABEL)\n",
    "plt.xlabel(XLABEL)\n",
    "plt.title(TITLE)\n",
    "fig.text(.2, .6, \n",
    "         \"y = mx + b \\nm= %0.4f +/- %0.4f \\n\" \n",
    "         \"b = %0.4f +/- %0.4f \\n\" % \n",
    "         (popt[0], std_dev[0], popt[1], std_dev[1])\n",
    "         ,bbox={'facecolor': 'w'}, fontsize=12)\n",
    "plt.grid(b=None, which='both', axis='both')\n",
    "plt.show()"
   ]
  },
  {
   "cell_type": "code",
   "execution_count": 6,
   "metadata": {},
   "outputs": [
    {
     "data": {
      "image/png": "[encoded data removed]",
      "text/plain": [
       "<Figure size 720x360 with 1 Axes>"
      ]
     },
     "metadata": {
      "needs_background": "light"
     },
     "output_type": "display_data"
    }
   ],
   "source": [
    "#Residual\n",
    "Fit_Data = [Fitfunction(x, *popt)for x in x_array ]\n",
    "ResidualArr = []\n",
    "for orig, fit in zip(y_array, Fit_Data):\n",
    "    ResidualArr = np.append(ResidualArr, orig - fit)\n",
    "poptRes, pcovRes = scipy.optimize.curve_fit(Residual, x_array, ResidualArr, sigma = sigma)\n",
    "std_dev_Res = np.sqrt(np.diag(pcovRes))\n",
    "\n",
    "smooth_x = np.linspace(np.min(x_array), np.max(x_array), 1000)\n",
    "fitRes = Residual(smooth_x, *poptRes) #popt is the number of curves\n",
    "    \n",
    "\n",
    "YLABEL = \"\"\n",
    "XLABEL = \"\"\n",
    "TITLE = \"\"\n",
    "\n",
    "fig = plt.figure(figsize=(10,5))\n",
    "plt.scatter(x_array, ResidualArr, c = 'b', s = 1)\n",
    "plt.errorbar(x_array, ResidualArr, yerr=yerr, xerr=xerr, fmt='o', ecolor='r', elinewidth=None, capsize=3, \n",
    "                               barsabove=True, lolims=False, uplims=False, xlolims=False, xuplims=False, \n",
    "                               errorevery=1, capthick=None, data=None)\n",
    "plt.plot(smooth_x, fitRes)\n",
    "plt.ylabel(YLABEL)\n",
    "plt.xlabel(XLABEL)\n",
    "plt.title(TITLE)\n",
    "fig.text(.2, .6, \n",
    "         \"y = mx + b \\nm= %0.4f +/- %0.4f \\n\" \n",
    "         \"b = %0.4f +/- %0.4f \\n\" % \n",
    "         (poptRes[0], std_dev_Res[0], poptRes[1], std_dev_Res[1])\n",
    "         ,bbox={'facecolor': 'w'}, fontsize=12)\n",
    "plt.grid(b=None, which='both', axis='both')\n",
    "plt.show()    "
   ]
  },
  {
   "cell_type": "code",
   "execution_count": null,
   "metadata": {},
   "outputs": [],
   "source": []
  },
  {
   "cell_type": "code",
   "execution_count": null,
   "metadata": {},
   "outputs": [],
   "source": []
  }
 ],
 "metadata": {
  "kernelspec": {
   "display_name": "Python 3",
   "language": "python",
   "name": "python3"
  },
  "language_info": {
   "codemirror_mode": {
    "name": "ipython",
    "version": 3
   },
   "file_extension": ".py",
   "mimetype": "text/x-python",
   "name": "python",
   "nbconvert_exporter": "python",
   "pygments_lexer": "ipython3",
   "version": "3.7.7"
  },
  "latex_envs": {
   "LaTeX_envs_menu_present": true,
   "autoclose": false,
   "autocomplete": true,
   "bibliofile": "biblio.bib",
   "cite_by": "apalike",
   "current_citInitial": 1,
   "eqLabelWithNumbers": true,
   "eqNumInitial": 1,
   "hotkeys": {
    "equation": "Ctrl-E",
    "itemize": "Ctrl-I"
   },
   "labels_anchors": false,
   "latex_user_defs": false,
   "report_style_numbering": false,
   "user_envs_cfg": false
  }
 },
 "nbformat": 4,
 "nbformat_minor": 4
}
