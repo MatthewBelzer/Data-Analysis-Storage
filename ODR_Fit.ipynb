{
 "cells": [
  {
   "cell_type": "code",
   "execution_count": 1,
   "metadata": {},
   "outputs": [],
   "source": [
    "%matplotlib inline\n",
    "\n",
    "import numpy as np\n",
    "import matplotlib.pyplot as plt\n",
    "from scipy.optimize import leastsq\n",
    "import scipy\n",
    "import math\n",
    "from scipy.odr import ODR, Model, RealData\n",
    "import matplotlib\n",
    "import scipy.stats\n",
    "from scipy.stats import t as studentt\n",
    "\n",
    "matplotlib.use(\"pgf\")\n",
    "matplotlib.rcParams.update({\n",
    "    \"pgf.texsystem\": \"pdflatex\",\n",
    "    'font.family': 'serif',\n",
    "    'text.usetex': True,\n",
    "    'pgf.rcfonts': False,\n",
    "})"
   ]
  },
  {
   "cell_type": "code",
   "execution_count": 2,
   "metadata": {},
   "outputs": [],
   "source": [
    "#Function\n",
    "def Fitfunction(beta, x):\n",
    "    y_fit = beta[0] + beta[1]*x\n",
    "    return y_fit\n",
    "\n",
    "def Residual(x, m, b):\n",
    "    return m*x+b\n",
    "\n",
    "model = Model(Fitfunction)\n",
    "#Fonts\n",
    "font = {'size'   : 16}\n",
    "plt.rc('font', **font)"
   ]
  },
  {
   "cell_type": "code",
   "execution_count": 3,
   "metadata": {},
   "outputs": [],
   "source": [
    "#Data\n",
    "x_array = \n",
    "y_array = \n",
    "xerr =\n",
    "yerr = \n",
    "\n",
    "data = RealData(x_array, y_array, sx = xerr, sy = yerr)"
   ]
  },
  {
   "cell_type": "code",
   "execution_count": 4,
   "metadata": {},
   "outputs": [
    {
     "ename": "SyntaxError",
     "evalue": "invalid syntax (<ipython-input-4-b6a26e9006a0>, line 2)",
     "output_type": "error",
     "traceback": [
      "\u001b[1;36m  File \u001b[1;32m\"<ipython-input-4-b6a26e9006a0>\"\u001b[1;36m, line \u001b[1;32m2\u001b[0m\n\u001b[1;33m    guess1 = #FIRST GUESS of beta[0]\u001b[0m\n\u001b[1;37m                                    ^\u001b[0m\n\u001b[1;31mSyntaxError\u001b[0m\u001b[1;31m:\u001b[0m invalid syntax\n"
     ]
    }
   ],
   "source": [
    "#Fitting\n",
    "guess1 = #FIRST GUESS of beta[0]\n",
    "guess2 = #SECOND GUESS of beta[1] #ADD MORE GUESSES IF NEEDED\n",
    "odr = ODR(data, model, [guess1, guess2]\n",
    "        #, maxit = 50*10**3 #option for maximum iterations if there are many parameters\n",
    "         )\n",
    "odr.set_job(fit_type = 0) #0 Explicit ODR, 1 Implicit ODR, 2 Ordinary Least Squares\n",
    "output = odr.run()\n",
    "output.pprint()\n",
    "beta = output.beta\n",
    "beta_error = output.sd_beta\n",
    "p_val = 1 - scipy.stats.chi2.cdf(output.res_var, len(x_array) - len(beta)) #p_value\n",
    "print(p_val)\n",
    "#Percent change of getting the chi squared value from model assuming its true and it still supports hypothesis\n",
    "#High Value shows it is a good fit\n",
    "#Note: res.var is the reduced chi squared"
   ]
  },
  {
   "cell_type": "code",
   "execution_count": 5,
   "metadata": {},
   "outputs": [
    {
     "name": "stderr",
     "output_type": "stream",
     "text": [
      "C:\\Users\\matth\\Anaconda3\\lib\\site-packages\\ipykernel_launcher.py:24: UserWarning: Matplotlib is currently using pgf, which is a non-GUI backend, so cannot show the figure.\n"
     ]
    }
   ],
   "source": [
    "#Graphing\n",
    "%matplotlib inline\n",
    "YLABEL = \"\"\n",
    "XLABEL = \"\"\n",
    "TITLE = \"\"\n",
    "\n",
    "fig = plt.figure(figsize=(10,5))\n",
    "plt.scatter(x_array, y_array, c = 'b', s = 1)\n",
    "plt.errorbar(x_array, y_array, yerr=yerr, xerr=xerr, fmt='o', ecolor='r', elinewidth=None, capsize=3, \n",
    "                               barsabove=True, lolims=False, uplims=False, xlolims=False, xuplims=False, \n",
    "                               errorevery=1, capthick=None, data=None)\n",
    "\n",
    "smooth_x = np.linspace(np.min(x_array), np.max(x_array), 1000)\n",
    "fit = Fitfunction(beta, smooth_x)\n",
    "plt.plot(smooth_x, fit)\n",
    "plt.ylabel(YLABEL)\n",
    "plt.xlabel(XLABEL)\n",
    "plt.title(TITLE)\n",
    "#plt.legend(loc = 'lower right')\n",
    "#plt.xscale(\"log\")\n",
    "#plt.yscale(\"log\")\n",
    "plt.grid(b=None, which='both', axis='both')\n",
    "\n",
    "fig.text(.7, .7, \n",
    "     \"Function Goes Here\"\n",
    "     \"Amplitude = %0.3e $\\pm$ %0.3e\\n\"   \n",
    "     \"$\\mu$ = %0.3e $\\pm$ %0.3e\\n\"\n",
    "     \"$\\sigma$ = %0.3e $\\pm$ %0.3e\" % \n",
    "     (beta[0], beta_error[0], beta[1], beta_error[1], beta[2], beta_error[2])\n",
    "     ,bbox={'facecolor': 'cornsilk'}, fontsize=16)  \n",
    "#plt.savefig('Graph.pgf', format='pgf')\n",
    "plt.show()"
   ]
  },
  {
   "cell_type": "code",
   "execution_count": null,
   "metadata": {},
   "outputs": [],
   "source": [
    "#Confidence Interval of Parameters: T-Test Two Sided\n",
    "DOF = len(x_array) - len(beta) #Degrees of Freedom of Fit\n",
    "n = 0 #Confidence Interval of which variable in beta array\n",
    "\n",
    "print(\"90% CI\")\n",
    "alpha = (1-.1)/2 #Alpha Value \n",
    "interval = studentt.interval(alpha,DOF) #Value\n",
    "Bottom = beta[n] + interval[0]*beta_error[n]\n",
    "Top = beta[n] + interval[1]*beta_error[n]\n",
    "print(Bottom, Top)\n",
    "interval = interval[1]*beta_error[n]\n",
    "print(interval)\n",
    "\n",
    "print(\"------\")\n",
    "\n",
    "print(\"95% CI\")\n",
    "alpha = (1-.05)/2 #Alpha Value \n",
    "interval = studentt.interval(alpha,DOF) #Value\n",
    "Bottom = beta[n] + interval[0]*beta_error[n]\n",
    "Top = beta[n] + interval[1]*beta_error[n]\n",
    "print(Bottom, Top)\n",
    "interval = interval[1]*beta_error[n]\n",
    "print(interval)\n",
    "print(\"------\")\n",
    "\n",
    "print(\"99% CI\")\n",
    "alpha = (1-.01)/2 #Alpha Value \n",
    "interval = studentt.interval(alpha,DOF) #Value\n",
    "Bottom = beta[n] + interval[0]*beta_error[n]\n",
    "Top = beta[n] + interval[1]*beta_error[n]\n",
    "print(Bottom, Top)\n",
    "interval = interval[1]*beta_error[n]\n",
    "print(interval)\n",
    "print(\"------\")"
   ]
  },
  {
   "cell_type": "code",
   "execution_count": 1,
   "metadata": {},
   "outputs": [
    {
     "ename": "NameError",
     "evalue": "name 'x_array' is not defined",
     "output_type": "error",
     "traceback": [
      "\u001b[1;31m---------------------------------------------------------------------------\u001b[0m",
      "\u001b[1;31mNameError\u001b[0m                                 Traceback (most recent call last)",
      "\u001b[1;32m<ipython-input-1-a0790846f606>\u001b[0m in \u001b[0;36m<module>\u001b[1;34m\u001b[0m\n\u001b[0;32m      1\u001b[0m \u001b[1;31m#Residual\u001b[0m\u001b[1;33m\u001b[0m\u001b[1;33m\u001b[0m\u001b[1;33m\u001b[0m\u001b[0m\n\u001b[0;32m      2\u001b[0m \u001b[0mget_ipython\u001b[0m\u001b[1;33m(\u001b[0m\u001b[1;33m)\u001b[0m\u001b[1;33m.\u001b[0m\u001b[0mrun_line_magic\u001b[0m\u001b[1;33m(\u001b[0m\u001b[1;34m'matplotlib'\u001b[0m\u001b[1;33m,\u001b[0m \u001b[1;34m'inline'\u001b[0m\u001b[1;33m)\u001b[0m\u001b[1;33m\u001b[0m\u001b[1;33m\u001b[0m\u001b[0m\n\u001b[1;32m----> 3\u001b[1;33m \u001b[0mFit_Data\u001b[0m \u001b[1;33m=\u001b[0m \u001b[1;33m[\u001b[0m\u001b[0mFitfunction\u001b[0m\u001b[1;33m(\u001b[0m\u001b[0mbeta\u001b[0m\u001b[1;33m,\u001b[0m \u001b[0mx\u001b[0m\u001b[1;33m)\u001b[0m\u001b[1;32mfor\u001b[0m \u001b[0mx\u001b[0m \u001b[1;32min\u001b[0m \u001b[0mx_array\u001b[0m \u001b[1;33m]\u001b[0m\u001b[1;33m\u001b[0m\u001b[1;33m\u001b[0m\u001b[0m\n\u001b[0m\u001b[0;32m      4\u001b[0m \u001b[0mResidualArr\u001b[0m \u001b[1;33m=\u001b[0m \u001b[1;33m[\u001b[0m\u001b[1;33m]\u001b[0m\u001b[1;33m\u001b[0m\u001b[1;33m\u001b[0m\u001b[0m\n\u001b[0;32m      5\u001b[0m \u001b[1;32mfor\u001b[0m \u001b[0morig\u001b[0m\u001b[1;33m,\u001b[0m \u001b[0mfit\u001b[0m \u001b[1;32min\u001b[0m \u001b[0mzip\u001b[0m\u001b[1;33m(\u001b[0m\u001b[0my_array\u001b[0m\u001b[1;33m,\u001b[0m \u001b[0mFit_Data\u001b[0m\u001b[1;33m)\u001b[0m\u001b[1;33m:\u001b[0m\u001b[1;33m\u001b[0m\u001b[1;33m\u001b[0m\u001b[0m\n",
      "\u001b[1;31mNameError\u001b[0m: name 'x_array' is not defined"
     ]
    }
   ],
   "source": [
    "#Residual\n",
    "%matplotlib inline\n",
    "Fit_Data = [Fitfunction(beta, x)for x in x_array ]\n",
    "ResidualArr = []\n",
    "for orig, fit in zip(y_array, Fit_Data):\n",
    "    ResidualArr = np.append(ResidualArr, orig - fit)\n",
    "poptRes, pcovRes = scipy.optimize.curve_fit(Residual, x_array, ResidualArr, sigma=yerr)\n",
    "std_dev_Res = np.sqrt(np.diag(pcovRes))\n",
    "\n",
    "smooth_x = np.linspace(np.min(x_array), np.max(x_array), 1000)\n",
    "fitRes = Residual(smooth_x, *poptRes) #popt is the number of curves\n",
    "    \n",
    "\n",
    "YLABEL = \"\"\n",
    "XLABEL = \"\"\n",
    "TITLE = \"\"\n",
    "\n",
    "fig = plt.figure(figsize=(10,5))\n",
    "plt.scatter(x_array, ResidualArr, c = 'b', s = 1)\n",
    "plt.errorbar(x_array, ResidualArr, yerr=yerr, xerr=xerr, fmt='o', ecolor='r', elinewidth=None, capsize=3, \n",
    "                               barsabove=True, lolims=False, uplims=False, xlolims=False, xuplims=False, \n",
    "                               errorevery=1, capthick=None, data=None)\n",
    "plt.plot(smooth_x, fitRes)\n",
    "plt.ylabel(YLABEL)\n",
    "plt.xlabel(XLABEL)\n",
    "plt.title(TITLE)\n",
    "fig.text(.2, .6, \n",
    "         \"y = mx + b \\nm= %0.3e $\\pm$ %0.3e \\n\" \n",
    "         \"b = %0.3e $\\pm$ %0.3e\" % \n",
    "         (poptRes[0], std_dev_Res[0], poptRes[1], std_dev_Res[1])\n",
    "         ,bbox={'facecolor': 'w'}, fontsize=12)\n",
    "plt.grid(b=None, which='both', axis='both')\n",
    "#plt.savefig('Residual.pgf', format='pgf')\n",
    "plt.show()\n"
   ]
  }
 ],
 "metadata": {
  "kernelspec": {
   "display_name": "Python 3",
   "language": "python",
   "name": "python3"
  },
  "language_info": {
   "codemirror_mode": {
    "name": "ipython",
    "version": 3
   },
   "file_extension": ".py",
   "mimetype": "text/x-python",
   "name": "python",
   "nbconvert_exporter": "python",
   "pygments_lexer": "ipython3",
   "version": "3.7.7"
  },
  "latex_envs": {
   "LaTeX_envs_menu_present": true,
   "autoclose": false,
   "autocomplete": true,
   "bibliofile": "biblio.bib",
   "cite_by": "apalike",
   "current_citInitial": 1,
   "eqLabelWithNumbers": true,
   "eqNumInitial": 1,
   "hotkeys": {
    "equation": "Ctrl-E",
    "itemize": "Ctrl-I"
   },
   "labels_anchors": false,
   "latex_user_defs": false,
   "report_style_numbering": false,
   "user_envs_cfg": false
  }
 },
 "nbformat": 4,
 "nbformat_minor": 4
}
